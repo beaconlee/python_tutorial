{
 "cells": [
  {
   "cell_type": "code",
   "execution_count": 30,
   "metadata": {},
   "outputs": [
    {
     "name": "stdout",
     "output_type": "stream",
     "text": [
      "['aa']\n"
     ]
    }
   ],
   "source": [
    "import re\n",
    "\n",
    "# findall\tReturns a list containing all matches\n",
    "# search\tReturns a Match object if there is a match anywhere in the string\n",
    "# split\tReturns a list where the string has been split at each match\n",
    "# sub\tReplaces one or many matches with a string\n",
    "\n",
    "txt = \"The rain in Spaain\"\n",
    "x = re.findall(\"[a-f]{2}\", txt)\n",
    "print(x)\n",
    "\n"
   ]
  },
  {
   "cell_type": "code",
   "execution_count": null,
   "metadata": {},
   "outputs": [
    {
     "name": "stdout",
     "output_type": "stream",
     "text": [
      "['e', 'a', 'aaa']\n"
     ]
    }
   ],
   "source": [
    "# metacharacters  元字符\n",
    "\n",
    "# [] 表示一个集合\n",
    "# \\  表示进行转义, 转义表在下面\n",
    "# .  表示任意一个字符,除了换行符\n",
    "# ^  表示开始\n",
    "# $  表示结束\n",
    "# *  0-n个\n",
    "# +  1-n个\n",
    "# ?  0-1个\n",
    "# {} 量词符号,表示前的有多少个前面的,有个问题,abcd{3},这里是表示有三个d么?\n",
    "# |  或运算\n",
    "# () ? 不清楚它的作用\n",
    "\n",
    "txt = \"The rain in Spaaain\"\n",
    "x = re.findall(\"[a-f]+\", txt)  # ['e', 'a', 'aaa']\n",
    "print(x)\n",
    "\n",
    "\n"
   ]
  },
  {
   "cell_type": "code",
   "execution_count": null,
   "metadata": {},
   "outputs": [],
   "source": [
    "# Special Sequences\n",
    "\n",
    "# 特殊序列是\\后面跟着下面列表中的一个字符，具有特殊含义：\n",
    "# A special sequence is a \\ followed by one of the characters in the list below, and has a special meaning:\n",
    "\n",
    "\n",
    "# Returns a match if the specified characters are at the beginning of the string\n",
    "# 如果指定的字符位于字符串的开头，则返回匹配项\n",
    "\n",
    "# Returns a match where the specified characters are at the beginning or at the end of a word\n",
    "# 返回指定字符位于单词开头或末尾的匹配项\n",
    "\n",
    "# Returns a match where the specified characters are present, but NOT at the beginning (or at the end) of a word\n",
    "# 返回一个匹配，其中指定的字符存在，但不在单词的开头（或结尾）\n",
    "\n",
    "\n",
    "# Returns a match where the string contains digits (numbers from 0-9)\t\n",
    "# \n",
    "\n",
    "# Returns a match where the string DOES NOT contain digits\n",
    "\n",
    "\n",
    "# Returns a match where the string contains a white space character\n",
    "# 返回字符串包含空格字符的匹配项\n",
    "\n",
    "# Returns a match where the string DOES NOT contain a white space character\n",
    "\n",
    "# Returns a match where the string contains any word characters (characters from a to Z, digits from 0-9, and the underscore _ character)\n",
    "# 返回一个匹配，其中字符串包含任何单词字符（从a到Z的字符、从0到9的数字和下划线_字符）\n",
    "\n",
    "# Returns a match where the string DOES NOT contain any word characters\n",
    "\n",
    "# Returns a match if the specified characters are at the end of the string\n",
    "# 如果指定的字符位于字符串末尾，则返回匹配项\n",
    "\n",
    "\n",
    "# /A 指定的字符是否位于字符串开头\n",
    "# /Z 指定的字符是否位于字符串末尾\n",
    "# /d 扩展为整数整数\n",
    "# /D 扩展为整数整数\n",
    "# /w 是否包含任意字母或数字\n",
    "# /W 是否不包含任意字母或数字\n",
    "# /b 指定的字符串是否出现在单词的开头或结尾\n",
    "# /B 指定的字符串在单词中存在,但不位于开头或者结尾\n",
    "# /s 是否包含有空格\n",
    "# /S 不包含有空格"
   ]
  },
  {
   "cell_type": "code",
   "execution_count": 33,
   "metadata": {},
   "outputs": [
    {
     "name": "stdout",
     "output_type": "stream",
     "text": [
      "['+']\n"
     ]
    }
   ],
   "source": [
    "# Sets \n",
    "# A set is a set of characters inside a pair of square brackets [] with a special meaning:\n",
    "# set是一对方括号[]内的一组字符，具有特殊含义：\n",
    "\n",
    "# [abc]  a,b,c 中任意一个字符\n",
    "# [^abc] 不包含 a,b,c 中任意一个字符\n",
    "# [a-zA-Z0-9] 包含有任意的字母或者数字\n",
    "# [0-4][5-9] 包含有两个数字,第一个是0到4,第二个是5-9\n",
    "# [+]  表示是否含有+这个符号\n",
    "# In sets, +, *, ., |, (), $,{} has no special meaning, so [+] means: return a match for any + character in the string\n",
    "# 在集合中，+，*，.，|，（）、$、{}没有特殊含义，因此[+]表示：返回字符串中任何+字符的匹配值\n",
    "\n",
    "\n",
    "\n",
    "sets = \"This is beacon home+\"\n",
    "x = re.findall(\"[+]\", sets)\n",
    "print(x)"
   ]
  }
 ],
 "metadata": {
  "kernelspec": {
   "display_name": "Python 3",
   "language": "python",
   "name": "python3"
  },
  "language_info": {
   "codemirror_mode": {
    "name": "ipython",
    "version": 3
   },
   "file_extension": ".py",
   "mimetype": "text/x-python",
   "name": "python",
   "nbconvert_exporter": "python",
   "pygments_lexer": "ipython3",
   "version": "3.10.12"
  }
 },
 "nbformat": 4,
 "nbformat_minor": 2
}
