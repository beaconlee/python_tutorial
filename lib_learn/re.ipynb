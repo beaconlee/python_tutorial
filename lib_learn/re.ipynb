{
 "cells": [
  {
   "cell_type": "code",
   "execution_count": null,
   "metadata": {},
   "outputs": [
    {
     "name": "stdout",
     "output_type": "stream",
     "text": [
      "['Th', 'ra', 'in', 'in', 'Sp', 'aa', 'in']\n",
      "['17']\n"
     ]
    }
   ],
   "source": [
    "import re\n",
    "\n",
    "# findall\tReturns a list containing all matches\n",
    "# search\tReturns a Match object if there is a match anywhere in the string\n",
    "# split\tReturns a list where the string has been split at each match\n",
    "# sub\tReplaces one or many matches with a string\n",
    "\n",
    "txt = \"The rain in Spaain\"\n",
    "# 这里报错了, 这里直接使用\\w时,会被python解释器认为是一个转义字符,但是python中并不存在这个转义字符\n",
    "# x = re.findall(\"\\w{2}\", txt)\n",
    "x = re.findall(r\"\\w{2}\", txt)\n",
    "print(x)\n",
    "\n",
    "\n",
    "\n",
    "# python 中的字符串前缀\n",
    "\n",
    "## r (raw string) 原始字符串\n",
    "\"\"\"\n",
    "让反斜杠\\不进行转义,字符串中的\\会被视为普通字符,而不会作为转义字符\n",
    "使用场景:\n",
    "  1. 正则表达式\n",
    "  2. windows 路径\n",
    "  3. latex 数学表达式中\n",
    "\"\"\"\n",
    "\n",
    "## f (formate string) 格式化字符串\n",
    "\"\"\"\n",
    "可以直接在字符串中嵌入变量或者表达式,并且自动格式化为字符串\n",
    "使用场景:\n",
    "  1. 字符串拼接,比+更加直观\n",
    "  2. 嵌入变量,可以直接在f\"\"中写入变量名\n",
    "  3. 计算表达式\n",
    "\"\"\"\n",
    "\n",
    "\n",
    "## rf 同时使用\n",
    "\"\"\"\n",
    "既可以避免进行字符转义,又可以嵌入表达式\n",
    "\"\"\"\n",
    "\n",
    "pattern = r\"\\d+\"\n",
    "txt2 = \"The rain in Spain17\"\n",
    "p = re.findall(f\"{pattern}\", txt2)\n",
    "# 如果在这里加 fr, 而在 pattern 中没有加 r 时,也会出现错误\n",
    "# 应该是这里的 fr 只是表示这个本身不进行转义, 而不保证替换后的表达式不进行转义\n",
    "# p = re.findall(fr\"{pattern}\", txt2)\n",
    "print(p)"
   ]
  },
  {
   "cell_type": "code",
   "execution_count": null,
   "metadata": {},
   "outputs": [
    {
     "name": "stdout",
     "output_type": "stream",
     "text": [
      "['e', 'a', 'aaa']\n",
      "['The', ' ra', 'in ', 'in ', 'Spa', 'aai']\n"
     ]
    }
   ],
   "source": [
    "# metacharacters  元字符\n",
    "\n",
    "# [] 表示一个集合\n",
    "# \\  表示进行转义, 转义表在下面\n",
    "# .  表示任意一个字符,除了换行符\n",
    "# ^  表示开始\n",
    "# $  表示结束\n",
    "# *  0-n个\n",
    "# +  1-n个\n",
    "# ?  0-1个\n",
    "# {} 量词符号,表示前的有多少个前面的,有个问题,abcd{3},这里是表示有三个d么?\n",
    "# |  或运算\n",
    "# () ? 不清楚它的作用\n",
    "\n",
    "txt = \"The rain in Spaaain\"\n",
    "x = re.findall(\"[a-f]+\", txt)  # ['e', 'a', 'aaa']\n",
    "print(x)\n",
    "x = re.findall(\".{3}\", txt)  # 任意三个字符\n",
    "print(x)"
   ]
  },
  {
   "cell_type": "code",
   "execution_count": 14,
   "metadata": {},
   "outputs": [
    {
     "name": "stdout",
     "output_type": "stream",
     "text": [
      "['3', '1']\n"
     ]
    }
   ],
   "source": [
    "# Special Sequences\n",
    "\n",
    "# 特殊序列是\\后面跟着下面列表中的一个字符，具有特殊含义：\n",
    "# A special sequence is a \\ followed by one of the characters in the list below, and has a special meaning:\n",
    "\n",
    "\n",
    "# Returns a match if the specified characters are at the beginning of the string\n",
    "# 如果指定的字符位于字符串的开头，则返回匹配项\n",
    "\n",
    "# Returns a match where the specified characters are at the beginning or at the end of a word\n",
    "# 返回指定字符位于单词开头或末尾的匹配项\n",
    "\n",
    "# Returns a match where the specified characters are present, but NOT at the beginning (or at the end) of a word\n",
    "# 返回一个匹配，其中指定的字符存在，但不在单词的开头（或结尾）\n",
    "\n",
    "\n",
    "# Returns a match where the string contains digits (numbers from 0-9)\t\n",
    "# \n",
    "\n",
    "# Returns a match where the string DOES NOT contain digits\n",
    "\n",
    "\n",
    "# Returns a match where the string contains a white space character\n",
    "# 返回字符串包含空格字符的匹配项\n",
    "\n",
    "# Returns a match where the string DOES NOT contain a white space character\n",
    "\n",
    "# Returns a match where the string contains any word characters (characters from a to Z, digits from 0-9, and the underscore _ character)\n",
    "# 返回一个匹配，其中字符串包含任何单词字符（从a到Z的字符、从0到9的数字和下划线_字符）\n",
    "\n",
    "# Returns a match where the string DOES NOT contain any word characters\n",
    "\n",
    "# Returns a match if the specified characters are at the end of the string\n",
    "# 如果指定的字符位于字符串末尾，则返回匹配项\n",
    "\n",
    "\"\"\"\n",
    "逆天失误,这里将斜杠写犯了,但是自己有个不好的地方,自己没有去怀疑是不是自己斜杠写反了,而是去看了案例\n",
    "更希望是自己进行推理验证得到的\n",
    "\"\"\"\n",
    "# 这里的记忆就是字母表中最开始和最后一个字母\n",
    "# \\A 指定的字符是否位于字符串开头\n",
    "# \\Z 指定的字符是否位于字符串末尾\n",
    "# \\d 扩展为整数\n",
    "# \\D 扩展为整数\n",
    "# \\w 是否包含任意字母或数字\n",
    "# \\W 是否不包含任意字母或数字\n",
    "# \\b 指定的字符串是否出现在单词的开头或结尾  /bxxx xxx是否位于开始  xxx/b xxx是否位于末尾\n",
    "# \\B 指定的字符串在单词中存在,但不位于开头或者结尾\n",
    "# \\s 是否包含有空格\n",
    "# \\S 不包含有空格\n",
    "\n",
    "txt3 = \"fda31\"\n",
    "w = re.findall(r\"\\d\", txt3)\n",
    "print(w)"
   ]
  },
  {
   "cell_type": "code",
   "execution_count": 15,
   "metadata": {},
   "outputs": [
    {
     "name": "stdout",
     "output_type": "stream",
     "text": [
      "['+']\n"
     ]
    }
   ],
   "source": [
    "# Sets \n",
    "# A set is a set of characters inside a pair of square brackets [] with a special meaning:\n",
    "# set是一对方括号[]内的一组字符，具有特殊含义：\n",
    "\n",
    "# [abc]  a,b,c 中任意一个字符\n",
    "# [^abc] 不包含 a,b,c 中任意一个字符\n",
    "# [a-zA-Z0-9] 包含有任意的字母或者数字\n",
    "# [0-4][5-9] 包含有两个数字,第一个是0到4,第二个是5-9\n",
    "# [+]  表示是否含有+这个符号\n",
    "# In sets, +, *, ., |, (), $,{} has no special meaning, so [+] means: return a match for any + character in the string\n",
    "# 在集合中，+，*，.，|，（）、$、{}没有特殊含义，因此[+]表示：返回字符串中任何+字符的匹配值\n",
    "\n",
    "\n",
    "\n",
    "sets = \"This is beacon home+\"\n",
    "x = re.findall(\"[+]\", sets)\n",
    "print(x)"
   ]
  }
 ],
 "metadata": {
  "kernelspec": {
   "display_name": "Python 3",
   "language": "python",
   "name": "python3"
  },
  "language_info": {
   "codemirror_mode": {
    "name": "ipython",
    "version": 3
   },
   "file_extension": ".py",
   "mimetype": "text/x-python",
   "name": "python",
   "nbconvert_exporter": "python",
   "pygments_lexer": "ipython3",
   "version": "3.12.3"
  }
 },
 "nbformat": 4,
 "nbformat_minor": 2
}
